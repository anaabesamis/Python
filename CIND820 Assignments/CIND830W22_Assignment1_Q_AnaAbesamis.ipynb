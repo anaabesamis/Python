{
 "cells": [
  {
   "cell_type": "markdown",
   "metadata": {
    "id": "kJ6ssXaGJfGN"
   },
   "source": [
    "## CIND830 - Python Programming for Data Science  \n",
    "### Assignment 1 (10% of the final grade) \n",
    "### Due on February 07, 2022 11:59 PM "
   ]
  },
  {
   "cell_type": "markdown",
   "metadata": {
    "id": "UWjXw7DsJfGP"
   },
   "source": [
    "*****\n",
    "This is a Jupyter Notebook document that extends a simple formatting syntax for authoring HTML and PDF. Review [this](https://jupyter-notebook.readthedocs.io/en/stable/notebook.html) website for more details on using Jupyter Notebooks.\n",
    "\n",
    "Consider using a Jupyter Notebook platform to complete this assignment. Ensure using **Python 3.7** release or higher then complete the assignment by inserting your Python code wherever seeing the string `#INSERT YOUR ANSWER HERE.`\n",
    "\n",
    "When you click the `File` button, from the top navigation bar, then select `Export Notebook to HTML`, an HTML document will be generated that includes both the assignment content and the output of any embedded Python code chunks.\n",
    "\n",
    "Use [these](https://www.ryerson.ca/courses/students/tutorials/assignments/) guidelines to submit **both** the IPYNB and the exported file (HTML). Failing to submit both files will be subject to mark deduction.\n",
    "\n",
    "Please be advised that you cannot get more than 100% in this assignment, and the **BONUS** question (if there is any) will only be graded if all other questions have been submitted."
   ]
  },
  {
   "cell_type": "markdown",
   "metadata": {
    "id": "jPrZqSxgSWNr"
   },
   "source": [
    "*****\n"
   ]
  },
  {
   "cell_type": "markdown",
   "metadata": {
    "id": "-eIGITiYlFcs"
   },
   "source": [
    "### **Question 1  [25 pts]**:\n",
    "\n",
    "Write a python program to display all prime numbers within a given range\n",
    "\n",
    "**a)**  **[5 pts]** Take inputs from the user\n",
    "  - Take 2 inputs, a lower bound and an upper bound from the user\n"
   ]
  },
  {
   "cell_type": "code",
   "execution_count": 23,
   "metadata": {
    "execution": {
     "iopub.execute_input": "2022-01-18T02:34:45.986Z",
     "iopub.status.busy": "2022-01-18T02:34:45.975Z",
     "iopub.status.idle": "2022-01-18T02:34:45.998Z",
     "shell.execute_reply": "2022-01-18T02:34:45.794Z"
    },
    "id": "Ls5c2R4ok6QD"
   },
   "outputs": [
    {
     "name": "stdout",
     "output_type": "stream",
     "text": [
      "Enter the lower bound:\n",
      "2\n",
      "Enter the upper bound:\n",
      "10\n"
     ]
    }
   ],
   "source": [
    "lowBound = int(input(\"Enter the lower bound:\\n\"))\n",
    "upBound = int(input(\"Enter the upper bound:\\n\"))"
   ]
  },
  {
   "cell_type": "markdown",
   "metadata": {
    "id": "zupZ7VypeT2T"
   },
   "source": [
    "**b)**  **[10 pts]** Implement a solution using count-controlled loops (for loops)\n",
    "  - For the count-controlled loops, you can use the `range()` function to generate a sequence of numbers"
   ]
  },
  {
   "cell_type": "code",
   "execution_count": 24,
   "metadata": {
    "execution": {
     "iopub.execute_input": "2022-01-18T02:34:46.026Z",
     "iopub.status.busy": "2022-01-18T02:34:46.017Z",
     "iopub.status.idle": "2022-01-18T02:34:46.038Z",
     "shell.execute_reply": "2022-01-18T02:34:45.813Z"
    },
    "id": "pivRxmLZ5f-M"
   },
   "outputs": [
    {
     "name": "stdout",
     "output_type": "stream",
     "text": [
      "2\n",
      "3\n",
      "5\n",
      "7\n"
     ]
    }
   ],
   "source": [
    "for counter in range(lowBound, upBound + 1):\n",
    "    prime = True\n",
    "    for factor in range(2, counter):\n",
    "        if counter % factor == 0:\n",
    "            prime = False\n",
    "    if prime:\n",
    "        print(counter)"
   ]
  },
  {
   "cell_type": "markdown",
   "metadata": {
    "id": "Omvc4DMzecdp"
   },
   "source": [
    "**c)**  **[10 pts]** Implement a solution using condition-controlled loops (while loops)"
   ]
  },
  {
   "cell_type": "code",
   "execution_count": 25,
   "metadata": {
    "execution": {
     "iopub.execute_input": "2022-01-18T02:34:46.070Z",
     "iopub.status.busy": "2022-01-18T02:34:46.055Z",
     "iopub.status.idle": "2022-01-18T02:34:46.081Z",
     "shell.execute_reply": "2022-01-18T02:34:45.827Z"
    },
    "id": "s3_MqQ8J8Ntt"
   },
   "outputs": [
    {
     "name": "stdout",
     "output_type": "stream",
     "text": [
      "2\n",
      "3\n",
      "5\n",
      "7\n"
     ]
    }
   ],
   "source": [
    "counter = lowBound\n",
    "\n",
    "while counter <= upBound:\n",
    "    factor = 2\n",
    "    prime = True\n",
    "    while factor <= counter - 1:\n",
    "        if counter % factor == 0:\n",
    "            prime = False\n",
    "        factor += 1\n",
    "    if prime:\n",
    "        print(counter)\n",
    "    counter += 1"
   ]
  },
  {
   "cell_type": "markdown",
   "metadata": {
    "id": "xLf-vnSff-Gm"
   },
   "source": [
    "***"
   ]
  },
  {
   "cell_type": "markdown",
   "metadata": {
    "id": "CaroRARQVhbV"
   },
   "source": [
    "### **Question 2 [25 pts]**:\n",
    "Write a python program that takes two numeric inputs `x` and `y`. \n",
    "\n",
    "**a)**  **[5 pts]** The program should take numeric inputs continuously.\n",
    "\n",
    "**b)**  **[10 pts]** The program should ensure the range of `x` and `y` is between `0` and `1`. If either one of the input values is out of range, smaller than `0` or greater than `1`, then the program should quit.\n",
    "\n",
    "**c)**  **[10 pts]** Implement `XOR` gate, where the program returns `1` if both `x` and `y` values are different; otherwise, it returns `0`.\n",
    "\n",
    "The program should work for floating-point values. \n",
    "\n",
    "For example, \n",
    "\n",
    "If `x = .3` and `y = .3`, then `xor` output should be `0`\n",
    "\n",
    "If `x = .6` and `y = .3`, then `xor` output should be `1`\n",
    "\n",
    "If `x = .3` and `y = .6`, then `xor` output should be `1`\n",
    "\n",
    "If `x = .6` and `y = .6`, then `xor` output should be `0`  "
   ]
  },
  {
   "cell_type": "code",
   "execution_count": 8,
   "metadata": {
    "execution": {
     "iopub.execute_input": "2022-01-18T02:34:46.105Z",
     "iopub.status.busy": "2022-01-18T02:34:46.095Z",
     "iopub.status.idle": "2022-01-18T02:34:46.117Z",
     "shell.execute_reply": "2022-01-18T02:34:45.842Z"
    },
    "id": "cA3IM2NrtMXk"
   },
   "outputs": [
    {
     "name": "stdout",
     "output_type": "stream",
     "text": [
      "Enter first num between 0 and 1: .2\n",
      "Enter second num between 0 and 1: .3\n",
      "XOR output:  1\n"
     ]
    }
   ],
   "source": [
    "xcheck = True\n",
    "ycheck = True\n",
    "\n",
    "x = float(input(\"Enter first num between 0 and 1: \"))\n",
    "if (x < 0 or x > 1):\n",
    "    print(\"Error, input value is not between 0 and 1.\")\n",
    "    xcheck = False\n",
    "    \n",
    "y = float(input(\"Enter second num between 0 and 1: \"))\n",
    "if (y < 0 or y > 1):\n",
    "    print(\"Error, input value is not between 0 and 1.\")\n",
    "    ycheck = False\n",
    "\n",
    "if xcheck == False or ycheck == False:\n",
    "    print(\"No XOR output value.\")\n",
    "else:\n",
    "    if(x != y):\n",
    "        xor = 1\n",
    "    else:\n",
    "        xor = 0\n",
    "    print(\"XOR output: \", xor)\n"
   ]
  },
  {
   "cell_type": "markdown",
   "metadata": {
    "id": "zOEOhJrTgVFk"
   },
   "source": [
    "***"
   ]
  },
  {
   "cell_type": "markdown",
   "metadata": {
    "id": "Z5lAKTm6SWNs"
   },
   "source": [
    "### **Question 3  [25 pts]**:\n",
    "\n",
    "**a)**  **[5 pts]**  Write a Python program to accept an integer and display its binary and octal equivalent.\n",
    "For example, if the user enters `5` then the output should be: <br>\n",
    "`The binary equivalent of 5 is 0b101`\n",
    "`The octal equivalent of 5 is 0o5`"
   ]
  },
  {
   "cell_type": "code",
   "execution_count": 9,
   "metadata": {
    "execution": {
     "iopub.execute_input": "2022-01-18T02:34:46.146Z",
     "iopub.status.busy": "2022-01-18T02:34:46.136Z",
     "iopub.status.idle": "2022-01-18T02:34:46.159Z",
     "shell.execute_reply": "2022-01-18T02:34:45.857Z"
    },
    "id": "VM1VhboJSWNs",
    "jupyter": {
     "outputs_hidden": false
    },
    "pycharm": {
     "name": "#%%\n"
    }
   },
   "outputs": [
    {
     "name": "stdout",
     "output_type": "stream",
     "text": [
      "Enter an integer:\n",
      "-5\n",
      "The binary equivalent of -5 is -0b101\n",
      "The octal equivalent of -5 is -0o5\n"
     ]
    }
   ],
   "source": [
    "num = int(input(\"Enter an integer:\\n\"))\n",
    "\n",
    "numBin = bin(num)\n",
    "numOct = oct(num)\n",
    "print(\"The binary equivalent of\", num, \"is\", numBin)\n",
    "print(\"The octal equivalent of\", num, \"is\", numOct)"
   ]
  },
  {
   "cell_type": "markdown",
   "metadata": {
    "id": "Or6tr66hSWNu"
   },
   "source": [
    "**b)**  **[10 pts]** Write a Python program to calculate the distance between two given points whose coordinates are $(x_1, y_1)$ and $(x_2, y_2)$\n",
    "\n",
    "according to the following formula\n",
    "$Distance = \\sqrt{(x_2 - x_1)^2 + (y_2 - y_1)^2}$\n",
    "\n",
    "For example, if the user enters `2, 4` and `4, 8` then the output should be: <br>\n",
    "`The distance between [2.0, 4.0] and [4.0, 8.0] is 4.47213595499958`"
   ]
  },
  {
   "cell_type": "code",
   "execution_count": 12,
   "metadata": {
    "execution": {
     "iopub.execute_input": "2022-01-18T02:34:46.180Z",
     "iopub.status.busy": "2022-01-18T02:34:46.172Z",
     "iopub.status.idle": "2022-01-18T02:34:46.189Z",
     "shell.execute_reply": "2022-01-18T02:34:45.877Z"
    },
    "id": "42NZR6xiSWNu",
    "jupyter": {
     "outputs_hidden": false
    },
    "pycharm": {
     "name": "#%%\n"
    }
   },
   "outputs": [
    {
     "name": "stdout",
     "output_type": "stream",
     "text": [
      "Enter x-coordinate of the first point: 10\n",
      "Enter y-coordinate of the first point: 15\n",
      "Enter x-coordinate of the second point: 4\n",
      "Enter y-coordinate of the second point: 2\n",
      "The distance between [ 10.0 , 15.0 ] and [ 4.0 , 2.0 ] is 14.317821063276353\n"
     ]
    }
   ],
   "source": [
    "x1 = float(input(\"Enter x-coordinate of the first point: \"))\n",
    "y1 = float(input(\"Enter y-coordinate of the first point: \"))\n",
    "x2 = float(input(\"Enter x-coordinate of the second point: \"))\n",
    "y2 = float(input(\"Enter y-coordinate of the second point: \"))\n",
    "\n",
    "dist = ((x2-x1)**2+(y2-y1)**2)**(1/2)\n",
    "\n",
    "print(\"The distance between\", \"[\", x1, \",\", y1,\"] and [\", x2, \",\", y2,\"] is\", dist)"
   ]
  },
  {
   "cell_type": "markdown",
   "metadata": {
    "id": "MsDmMXKsSWNv"
   },
   "source": [
    "**c)**  **[10 pts]** Write a Python program to accept an integer number and dispay the digits at the ones, tens and hundreds place of that number.  \n",
    "For example, if the user enters `86421` then the output should be:\n",
    "\n",
    "`The digit at the ones place of 86421 is 1`\n",
    "\n",
    "`The digit at the tens place of 86421 is 2`\n",
    "\n",
    "`The digit at the hundreds place of 86421 is 4`\n"
   ]
  },
  {
   "cell_type": "code",
   "execution_count": 12,
   "metadata": {
    "execution": {
     "iopub.execute_input": "2022-01-18T02:34:46.223Z",
     "iopub.status.busy": "2022-01-18T02:34:46.208Z",
     "iopub.status.idle": "2022-01-18T02:34:46.233Z",
     "shell.execute_reply": "2022-01-18T02:34:45.893Z"
    },
    "id": "7XTyejHkSWNv",
    "jupyter": {
     "outputs_hidden": false
    },
    "pycharm": {
     "name": "#%%\n"
    }
   },
   "outputs": [
    {
     "name": "stdout",
     "output_type": "stream",
     "text": [
      "Enter an integer:\n",
      "-4456\n",
      "The digit at the ones place of -4456 is 6\n",
      "The digit at the tens place of -4456 is 5\n",
      "The digit at the hundreds place of -4456 is 4\n"
     ]
    }
   ],
   "source": [
    "num = int(input(\"Enter an integer:\\n\"))\n",
    "ones = abs(num) % 10\n",
    "tens = abs(num) // 10 % 10\n",
    "hundreds = abs(num) // 100 % 10\n",
    "print(\"The digit at the ones place of\", num, \"is\", ones)\n",
    "print(\"The digit at the tens place of\", num, \"is\", tens)\n",
    "print(\"The digit at the hundreds place of\", num, \"is\", hundreds)"
   ]
  },
  {
   "cell_type": "markdown",
   "metadata": {
    "id": "zyGPPD-zY9tI"
   },
   "source": [
    "### **Question 4  [25 pts]**:\n",
    "**a)**  **[10 pts]** Write a code that creates a set of different passwords.  Each password is a combination of a random adjective, noun, two digits and two punctuation symbols.\n",
    "\n",
    "For example, if the user asks for generating 4 passwords, then the code might generate the following list:\n",
    "\n",
    "| Password |\n",
    "|:-:|\n",
    "| supershine17*-  |\n",
    "| cheerfulmeet78~.  |\n",
    "| elitemango32&,  |\n",
    "| glossytrain14$} |\n",
    "\n",
    "Hints:  \n",
    "1. You can use the [wonderwords](https://pypi.org/project/wonderwords/) library to generate random words of the english language.\n",
    "2. You can use the \"functions for sequences\" methods from the [random](https://docs.python.org/3/library/random.html) module."
   ]
  },
  {
   "cell_type": "code",
   "execution_count": 54,
   "metadata": {
    "execution": {
     "iopub.execute_input": "2022-01-18T02:34:46.262Z",
     "iopub.status.busy": "2022-01-18T02:34:46.252Z",
     "iopub.status.idle": "2022-01-18T02:34:46.272Z",
     "shell.execute_reply": "2022-01-18T02:34:45.906Z"
    },
    "id": "GBa1P-FLZ4tJ"
   },
   "outputs": [
    {
     "name": "stdout",
     "output_type": "stream",
     "text": [
      "How many passwords to generate? 7\n",
      "crabbybeaver33+^\n",
      "allegedcascade86+`\n",
      "garruloustremor46,)\n",
      "divergentcure52(}\n",
      "perfectclue52@<\n",
      "statuesquechub91{{\n",
      "evanescentpumpkin89!%\n"
     ]
    }
   ],
   "source": [
    "num = int(input(\"How many passwords to generate? \"))\n",
    "\n",
    "import wonderwords\n",
    "import random\n",
    "import string\n",
    "from wonderwords import RandomWord\n",
    "r = RandomWord()\n",
    "\n",
    "for num in range(num):\n",
    "    adj = r.word(include_parts_of_speech=[\"adjectives\"])\n",
    "    noun = r.word(include_parts_of_speech=[\"nouns\"])\n",
    "    int2 = random.choice(range(10,100))\n",
    "    sym2 = ''.join(random.choice(string.punctuation) for i in range(2))\n",
    "    \n",
    "    print(adj, noun, int2, sym2, sep='')"
   ]
  },
  {
   "cell_type": "markdown",
   "metadata": {
    "id": "b-04LTBnaXvh"
   },
   "source": [
    "**b)**  **[10 pts]** Count the characters of each generated password in Q4.a, then print the password along with its number of characters.\n",
    "\n",
    "For example, if the user enters `4`, then the output might be as follows:\n",
    "\n",
    "| Password | Length |\n",
    "|:-:|:-:|\n",
    "| supershine17*-  | 14 |\n",
    "| cheerfulmeet78~.  | 16|\n",
    "| elitemango32&,  | 14|\n",
    "| glossytrain14$} | 15 |\n",
    "\n"
   ]
  },
  {
   "cell_type": "code",
   "execution_count": 59,
   "metadata": {
    "execution": {
     "iopub.execute_input": "2022-01-18T02:34:46.304Z",
     "iopub.status.busy": "2022-01-18T02:34:46.289Z",
     "iopub.status.idle": "2022-01-18T02:34:46.314Z",
     "shell.execute_reply": "2022-01-18T02:34:45.918Z"
    },
    "id": "-uhY18LaacpQ"
   },
   "outputs": [
    {
     "name": "stdout",
     "output_type": "stream",
     "text": [
      "How many passwords to generate? 5\n",
      "hugechairlift80$~ \t 17\n",
      "raresympathy18!{ \t 16\n",
      "fertileflour54[? \t 16\n",
      "verseddearest25=` \t 17\n",
      "talentedread30<, \t 16\n"
     ]
    }
   ],
   "source": [
    "num = int(input(\"How many passwords to generate? \"))\n",
    "\n",
    "import wonderwords\n",
    "import random\n",
    "import string\n",
    "from wonderwords import RandomWord\n",
    "r = RandomWord()\n",
    "\n",
    "for num in range(num):\n",
    "    adj = r.word(include_parts_of_speech=[\"adjectives\"])\n",
    "    noun = r.word(include_parts_of_speech=[\"nouns\"])\n",
    "    int2 = random.choice(range(10,100))\n",
    "    sym2 = ''.join(random.choice(string.punctuation) for i in range(2))\n",
    "    password = adj + noun + str(int2) + sym2\n",
    "    print(password, \"\\t\", len(password))"
   ]
  },
  {
   "cell_type": "markdown",
   "metadata": {
    "id": "XW2SOJyUagbK"
   },
   "source": [
    "**c)**  **[5 pts]** Write a code to print only the passwords with more than `14` characters and include either the letter 'o', the digit '3', or the punctuation symbol '~'.\n",
    "\n",
    "For example, the code would filter the `4` passwords listed in 4.a, and print the following output:\n",
    "\n",
    "| Password | Length |\n",
    "|:-|:-|\n",
    "| cheerfulmeet78~.  | 16|\n",
    "| glossytrain14$} | 15 |"
   ]
  },
  {
   "cell_type": "code",
   "execution_count": 62,
   "metadata": {
    "execution": {
     "iopub.execute_input": "2022-01-18T02:34:46.340Z",
     "iopub.status.busy": "2022-01-18T02:34:46.329Z",
     "iopub.status.idle": "2022-01-18T02:34:46.351Z",
     "shell.execute_reply": "2022-01-18T02:34:45.930Z"
    },
    "id": "RrLXGguKalqY"
   },
   "outputs": [
    {
     "name": "stdout",
     "output_type": "stream",
     "text": [
      "How many passwords to generate? 12\n",
      "apatheticsunbonnet48'\" \t 22\n",
      "brashhydrofoil64%_ \t 18\n",
      "lovelyconcentration25\"@ \t 23\n",
      "understoodsparrow56>{ \t 21\n",
      "massivetattler43\\[ \t 18\n",
      "pumpedrations27\\< \t 17\n",
      "fragilegossip35`@ \t 17\n",
      "amusedrocket-ship10<= \t 21\n"
     ]
    }
   ],
   "source": [
    "num = int(input(\"How many passwords to generate? \"))\n",
    "\n",
    "import wonderwords\n",
    "import random\n",
    "import string\n",
    "from wonderwords import RandomWord\n",
    "r = RandomWord()\n",
    "\n",
    "for num in range(num):\n",
    "    adj = r.word(include_parts_of_speech=[\"adjectives\"])\n",
    "    noun = r.word(include_parts_of_speech=[\"nouns\"])\n",
    "    int2 = random.choice(range(10,100))\n",
    "    sym2 = ''.join(random.choice(string.punctuation) for i in range(2))\n",
    "    password = adj + noun + str(int2) + sym2\n",
    "    \n",
    "    if(len(password) > 14):\n",
    "        if(\"o\" in password or \"3\" in password):\n",
    "            print(password, \"\\t\", len(password))\n",
    "        elif(\"~\" in password):\n",
    "            print(password, \"\\t\", len(password))"
   ]
  },
  {
   "cell_type": "markdown",
   "metadata": {
    "id": "YQW0DA46e55A"
   },
   "source": [
    "**BONUS**  **[5 pts]** Design an encoder that encrypts the passwords generated in Q4.a. by changing their letters into the octal form.\n",
    "\n",
    "For example, if the user enters `4`, then the output might be as follows\n",
    "\n",
    "| Password | Encryption |\n",
    "|:-|:-|\n",
    "| supershine17*- | 0o1630o1650o1600o1450o1620o1630o1500o1510o1560o1450o610o670o520o55 |\n",
    "| cheerfulmeet78~. | 0o1430o1500o1450o1450o1620o1460o1650o1540o1550o1450o1450o1640o670o700o1760o56 |\n",
    "| elitemango32&, | 0o1450o1540o1510o1640o1450o1550o1410o1560o1470o1570o630o620o460o54 |\n",
    "| glossytrain14$} | 0o1470o1540o1570o1630o1630o1710o1640o1620o1410o1510o1560o610o640o440o175 |"
   ]
  },
  {
   "cell_type": "code",
   "execution_count": 26,
   "metadata": {
    "execution": {
     "iopub.execute_input": "2022-01-18T02:34:46.376Z",
     "iopub.status.busy": "2022-01-18T02:34:46.364Z",
     "iopub.status.idle": "2022-01-18T02:34:46.386Z",
     "shell.execute_reply": "2022-01-18T02:34:45.944Z"
    },
    "id": "Tn2baaxZO5cs"
   },
   "outputs": [
    {
     "name": "stdout",
     "output_type": "stream",
     "text": [
      "How many passwords to generate? 3\n",
      "ruralseal45}- \t 0o1620o1650o1620o1410o1540o1630o1450o1410o1540o640o650o1750o55\n",
      "etherealmenorah34?. \t 0o1450o1640o1500o1450o1620o1450o1410o1540o1550o1450o1560o1570o1620o1410o1500o630o640o770o56\n",
      "naughtywaste58-$ \t 0o1560o1410o1650o1470o1500o1640o1710o1670o1410o1630o1640o1450o650o700o550o44\n"
     ]
    }
   ],
   "source": [
    "num = int(input(\"How many passwords to generate? \"))\n",
    "\n",
    "import wonderwords\n",
    "import random\n",
    "import string\n",
    "from wonderwords import RandomWord\n",
    "r = RandomWord()\n",
    "\n",
    "for num in range(num):\n",
    "    adj = r.word(include_parts_of_speech=[\"adjectives\"])\n",
    "    noun = r.word(include_parts_of_speech=[\"nouns\"])\n",
    "    int2 = random.choice(range(10,100))\n",
    "    sym2 = ''.join(random.choice(string.punctuation) for i in range(2))\n",
    "    password = adj + noun + str(int2) + sym2\n",
    "    \n",
    "    octpw = []\n",
    "    for char in password:\n",
    "        octpw.append(oct(ord(char)))\n",
    "    \n",
    "    octpw = ''.join([str(octchar) for octchar in octpw])\n",
    "\n",
    "    print(password, \"\\t\", octpw)"
   ]
  },
  {
   "cell_type": "markdown",
   "metadata": {
    "id": "5xhuXGfkgfuI"
   },
   "source": [
    "***"
   ]
  },
  {
   "cell_type": "markdown",
   "metadata": {
    "id": "MS4zegKigy6u"
   },
   "source": [
    "#### This is the end of assignment 1"
   ]
  }
 ],
 "metadata": {
  "colab": {
   "collapsed_sections": [],
   "name": "CIND830W22_Assignment1_Q.ipynb",
   "provenance": [],
   "toc_visible": true
  },
  "kernelspec": {
   "display_name": "Python 3",
   "language": "python",
   "name": "python3"
  },
  "language_info": {
   "codemirror_mode": {
    "name": "ipython",
    "version": 3
   },
   "file_extension": ".py",
   "mimetype": "text/x-python",
   "name": "python",
   "nbconvert_exporter": "python",
   "pygments_lexer": "ipython3",
   "version": "3.8.3"
  },
  "nteract": {
   "version": "0.28.0"
  },
  "varInspector": {
   "cols": {
    "lenName": 16,
    "lenType": 16,
    "lenVar": 40
   },
   "kernels_config": {
    "python": {
     "delete_cmd_postfix": "",
     "delete_cmd_prefix": "del ",
     "library": "var_list.py",
     "varRefreshCmd": "print(var_dic_list())"
    },
    "r": {
     "delete_cmd_postfix": ") ",
     "delete_cmd_prefix": "rm(",
     "library": "var_list.r",
     "varRefreshCmd": "cat(var_dic_list()) "
    }
   },
   "types_to_exclude": [
    "module",
    "function",
    "builtin_function_or_method",
    "instance",
    "_Feature"
   ],
   "window_display": false
  }
 },
 "nbformat": 4,
 "nbformat_minor": 1
}
