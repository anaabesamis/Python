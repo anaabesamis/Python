{
 "cells": [
  {
   "cell_type": "markdown",
   "metadata": {
    "id": "kJ6ssXaGJfGN"
   },
   "source": [
    "## CIND830 - Python Programming for Data Science  \n",
    "### Assignment 3 (10% of the final grade) \n",
    "### Due on April 11, 2022 11:59 PM "
   ]
  },
  {
   "cell_type": "markdown",
   "metadata": {
    "id": "UWjXw7DsJfGP"
   },
   "source": [
    "*****\n",
    "This is a Jupyter Notebook document that extends a simple formatting syntax for authoring HTML and PDF. Review [this](https://jupyter-notebook.readthedocs.io/en/stable/notebook.html) website for more details on using Jupyter Notebooks.\n",
    "\n",
    "Use the JupyterHub server on the Google Cloud Platform, provided by your designated instructor, for this assignment. Ensure using **Python 3.7** release or higher then complete the assignment by inserting your Python code wherever seeing the string `#INSERT YOUR ANSWER HERE.`\n",
    "\n",
    "When you click the `File` button, from the top navigation bar, then select `Export Notebook to HTML`, an HTML document will be generated that includes both the assignment content and the output of any embedded Python code chunks.\n",
    "\n",
    "Use [these](https://www.ryerson.ca/courses/students/tutorials/assignments/) guidelines to submit **both** the IPYNB and the exported file (HTML). Failing to submit both files will be subject to mark deduction.\n",
    "\n",
    "Please be advised that you cannot get more than 100% in this assignment, and the **BONUS** question (if there is any) will only be graded if all other questions have been submitted."
   ]
  },
  {
   "cell_type": "markdown",
   "metadata": {
    "id": "jPrZqSxgSWNr"
   },
   "source": [
    "*****\n"
   ]
  },
  {
   "cell_type": "markdown",
   "metadata": {
    "id": "A5OU74AiPt_F"
   },
   "source": [
    "### Question 1 [20 pts]:\n",
    "Download the [iris dataset](https://data.mendeley.com/datasets/7xwsksdpy3/1). Ensure that the downloaded CSV file has 151 rows and 5 columns, and the last column presents the iris flower type: Setosa, Viginica or Versicolor. "
   ]
  },
  {
   "cell_type": "markdown",
   "metadata": {
    "id": "egc-RzEEyPGr"
   },
   "source": [
    "**a)** **(10 Points)** Write a script that reads the iris data and stores it in a dictionary, where the `Keys` are the heads of the columns and the `Values` are the data of the respective column.\n",
    "\n",
    "The output of running this script would be similar to the following:\n",
    "```\n",
    "{'sepal_length': [5.1, 4.9, 4.7, 4.6, ... , 6.3, 6.5, 6.2, 5.9],\n",
    " 'sepal_width' : [3.5, 3.0, 3.2, 3.1, ... , 2.5, 3.0, 3.4, 3.0],\n",
    " 'petal_length': [1.4, 1.4, 1.3, 1.5, ... , 5.0, 5.2, 5.4, 5.1],\n",
    " 'petal_width' : [0.2, 0.2, 0.2, 0.2, ... , 1.9, 2.0, 2.3, 1.8], \n",
    " 'class'       : ['Iris-setosa', ... , 'Iris-virginica']}\n",
    " ```\n"
   ]
  },
  {
   "cell_type": "code",
   "execution_count": 12,
   "metadata": {
    "execution": {
     "iopub.execute_input": "2022-03-07T18:39:49.528Z",
     "iopub.status.busy": "2022-03-07T18:39:49.515Z",
     "iopub.status.idle": "2022-03-07T18:39:49.541Z",
     "shell.execute_reply": "2022-03-07T18:39:49.366Z"
    },
    "id": "G14BKxJIJb0b"
   },
   "outputs": [
    {
     "name": "stdout",
     "output_type": "stream",
     "text": [
      "{'sepal_length': ['5.1', '4.9', '4.7', '4.6', '5.0', '5.4', '4.6', '5.0', '4.4', '4.9', '5.4', '4.8', '4.8', '4.3', '5.8', '5.7', '5.4', '5.1', '5.7', '5.1', '5.4', '5.1', '4.6', '5.1', '4.8', '5.0', '5.0', '5.2', '5.2', '4.7', '4.8', '5.4', '5.2', '5.5', '4.9', '5.0', '5.5', '4.9', '4.4', '5.1', '5.0', '4.5', '4.4', '5.0', '5.1', '4.8', '5.1', '4.6', '5.3', '5.0', '7.0', '6.4', '6.9', '5.5', '6.5', '5.7', '6.3', '4.9', '6.6', '5.2', '5.0', '5.9', '6.0', '6.1', '5.6', '6.7', '5.6', '5.8', '6.2', '5.6', '5.9', '6.1', '6.3', '6.1', '6.4', '6.6', '6.8', '6.7', '6.0', '5.7', '5.5', '5.5', '5.8', '6.0', '5.4', '6.0', '6.7', '6.3', '5.6', '5.5', '5.5', '6.1', '5.8', '5.0', '5.6', '5.7', '5.7', '6.2', '5.1', '5.7', '6.3', '5.8', '7.1', '6.3', '6.5', '7.6', '4.9', '7.3', '6.7', '7.2', '6.5', '6.4', '6.8', '5.7', '5.8', '6.4', '6.5', '7.7', '7.7', '6.0', '6.9', '5.6', '7.7', '6.3', '6.7', '7.2', '6.2', '6.1', '6.4', '7.2', '7.4', '7.9', '6.4', '6.3', '6.1', '7.7', '6.3', '6.4', '6.0', '6.9', '6.7', '6.9', '5.8', '6.8', '6.7', '6.7', '6.3', '6.5', '6.2', '5.9'], 'sepal_width': ['3.5', '3.0', '3.2', '3.1', '3.6', '3.9', '3.4', '3.4', '2.9', '3.1', '3.7', '3.4', '3.0', '3.0', '4.0', '4.4', '3.9', '3.5', '3.8', '3.8', '3.4', '3.7', '3.6', '3.3', '3.4', '3.0', '3.4', '3.5', '3.4', '3.2', '3.1', '3.4', '4.1', '4.2', '3.1', '3.2', '3.5', '3.1', '3.0', '3.4', '3.5', '2.3', '3.2', '3.5', '3.8', '3.0', '3.8', '3.2', '3.7', '3.3', '3.2', '3.2', '3.1', '2.3', '2.8', '2.8', '3.3', '2.4', '2.9', '2.7', '2.0', '3.0', '2.2', '2.9', '2.9', '3.1', '3.0', '2.7', '2.2', '2.5', '3.2', '2.8', '2.5', '2.8', '2.9', '3.0', '2.8', '3.0', '2.9', '2.6', '2.4', '2.4', '2.7', '2.7', '3.0', '3.4', '3.1', '2.3', '3.0', '2.5', '2.6', '3.0', '2.6', '2.3', '2.7', '3.0', '2.9', '2.9', '2.5', '2.8', '3.3', '2.7', '3.0', '2.9', '3.0', '3.0', '2.5', '2.9', '2.5', '3.6', '3.2', '2.7', '3.0', '2.5', '2.8', '3.2', '3.0', '3.8', '2.6', '2.2', '3.2', '2.8', '2.8', '2.7', '3.3', '3.2', '2.8', '3.0', '2.8', '3.0', '2.8', '3.8', '2.8', '2.8', '2.6', '3.0', '3.4', '3.1', '3.0', '3.1', '3.1', '3.1', '2.7', '3.2', '3.3', '3.0', '2.5', '3.0', '3.4', '3.0'], 'petal_length': ['1.4', '1.4', '1.3', '1.5', '1.4', '1.7', '1.4', '1.5', '1.4', '1.5', '1.5', '1.6', '1.4', '1.1', '1.2', '1.5', '1.3', '1.4', '1.7', '1.5', '1.7', '1.5', '1.0', '1.7', '1.9', '1.6', '1.6', '1.5', '1.4', '1.6', '1.6', '1.5', '1.5', '1.4', '1.5', '1.2', '1.3', '1.5', '1.3', '1.5', '1.3', '1.3', '1.3', '1.6', '1.9', '1.4', '1.6', '1.4', '1.5', '1.4', '4.7', '4.5', '4.9', '4.0', '4.6', '4.5', '4.7', '3.3', '4.6', '3.9', '3.5', '4.2', '4.0', '4.7', '3.6', '4.4', '4.5', '4.1', '4.5', '3.9', '4.8', '4.0', '4.9', '4.7', '4.3', '4.4', '4.8', '5.0', '4.5', '3.5', '3.8', '3.7', '3.9', '5.1', '4.5', '4.5', '4.7', '4.4', '4.1', '4.0', '4.4', '4.6', '4.0', '3.3', '4.2', '4.2', '4.2', '4.3', '3.0', '4.1', '6.0', '5.1', '5.9', '5.6', '5.8', '6.6', '4.5', '6.3', '5.8', '6.1', '5.1', '5.3', '5.5', '5.0', '5.1', '5.3', '5.5', '6.7', '6.9', '5.0', '5.7', '4.9', '6.7', '4.9', '5.7', '6.0', '4.8', '4.9', '5.6', '5.8', '6.1', '6.4', '5.6', '5.1', '5.6', '6.1', '5.6', '5.5', '4.8', '5.4', '5.6', '5.1', '5.1', '5.9', '5.7', '5.2', '5.0', '5.2', '5.4', '5.1'], 'petal_width': ['0.2', '0.2', '0.2', '0.2', '0.2', '0.4', '0.3', '0.2', '0.2', '0.1', '0.2', '0.2', '0.1', '0.1', '0.2', '0.4', '0.4', '0.3', '0.3', '0.3', '0.2', '0.4', '0.2', '0.5', '0.2', '0.2', '0.4', '0.2', '0.2', '0.2', '0.2', '0.4', '0.1', '0.2', '0.1', '0.2', '0.2', '0.1', '0.2', '0.2', '0.3', '0.3', '0.2', '0.6', '0.4', '0.3', '0.2', '0.2', '0.2', '0.2', '1.4', '1.5', '1.5', '1.3', '1.5', '1.3', '1.6', '1.0', '1.3', '1.4', '1.0', '1.5', '1.0', '1.4', '1.3', '1.4', '1.5', '1.0', '1.5', '1.1', '1.8', '1.3', '1.5', '1.2', '1.3', '1.4', '1.4', '1.7', '1.5', '1.0', '1.1', '1.0', '1.2', '1.6', '1.5', '1.6', '1.5', '1.3', '1.3', '1.3', '1.2', '1.4', '1.2', '1.0', '1.3', '1.2', '1.3', '1.3', '1.1', '1.3', '2.5', '1.9', '2.1', '1.8', '2.2', '2.1', '1.7', '1.8', '1.8', '2.5', '2.0', '1.9', '2.1', '2.0', '2.4', '2.3', '1.8', '2.2', '2.3', '1.5', '2.3', '2.0', '2.0', '1.8', '2.1', '1.8', '1.8', '1.8', '2.1', '1.6', '1.9', '2.0', '2.2', '1.5', '1.4', '2.3', '2.4', '1.8', '1.8', '2.1', '2.4', '2.3', '1.9', '2.3', '2.5', '2.3', '1.9', '2.0', '2.3', '1.8'], 'class': ['Iris-setosa', 'Iris-setosa', 'Iris-setosa', 'Iris-setosa', 'Iris-setosa', 'Iris-setosa', 'Iris-setosa', 'Iris-setosa', 'Iris-setosa', 'Iris-setosa', 'Iris-setosa', 'Iris-setosa', 'Iris-setosa', 'Iris-setosa', 'Iris-setosa', 'Iris-setosa', 'Iris-setosa', 'Iris-setosa', 'Iris-setosa', 'Iris-setosa', 'Iris-setosa', 'Iris-setosa', 'Iris-setosa', 'Iris-setosa', 'Iris-setosa', 'Iris-setosa', 'Iris-setosa', 'Iris-setosa', 'Iris-setosa', 'Iris-setosa', 'Iris-setosa', 'Iris-setosa', 'Iris-setosa', 'Iris-setosa', 'Iris-setosa', 'Iris-setosa', 'Iris-setosa', 'Iris-setosa', 'Iris-setosa', 'Iris-setosa', 'Iris-setosa', 'Iris-setosa', 'Iris-setosa', 'Iris-setosa', 'Iris-setosa', 'Iris-setosa', 'Iris-setosa', 'Iris-setosa', 'Iris-setosa', 'Iris-setosa', 'Iris-versicolor', 'Iris-versicolor', 'Iris-versicolor', 'Iris-versicolor', 'Iris-versicolor', 'Iris-versicolor', 'Iris-versicolor', 'Iris-versicolor', 'Iris-versicolor', 'Iris-versicolor', 'Iris-versicolor', 'Iris-versicolor', 'Iris-versicolor', 'Iris-versicolor', 'Iris-versicolor', 'Iris-versicolor', 'Iris-versicolor', 'Iris-versicolor', 'Iris-versicolor', 'Iris-versicolor', 'Iris-versicolor', 'Iris-versicolor', 'Iris-versicolor', 'Iris-versicolor', 'Iris-versicolor', 'Iris-versicolor', 'Iris-versicolor', 'Iris-versicolor', 'Iris-versicolor', 'Iris-versicolor', 'Iris-versicolor', 'Iris-versicolor', 'Iris-versicolor', 'Iris-versicolor', 'Iris-versicolor', 'Iris-versicolor', 'Iris-versicolor', 'Iris-versicolor', 'Iris-versicolor', 'Iris-versicolor', 'Iris-versicolor', 'Iris-versicolor', 'Iris-versicolor', 'Iris-versicolor', 'Iris-versicolor', 'Iris-versicolor', 'Iris-versicolor', 'Iris-versicolor', 'Iris-versicolor', 'Iris-versicolor', 'Iris-virginica', 'Iris-virginica', 'Iris-virginica', 'Iris-virginica', 'Iris-virginica', 'Iris-virginica', 'Iris-virginica', 'Iris-virginica', 'Iris-virginica', 'Iris-virginica', 'Iris-virginica', 'Iris-virginica', 'Iris-virginica', 'Iris-virginica', 'Iris-virginica', 'Iris-virginica', 'Iris-virginica', 'Iris-virginica', 'Iris-virginica', 'Iris-virginica', 'Iris-virginica', 'Iris-virginica', 'Iris-virginica', 'Iris-virginica', 'Iris-virginica', 'Iris-virginica', 'Iris-virginica', 'Iris-virginica', 'Iris-virginica', 'Iris-virginica', 'Iris-virginica', 'Iris-virginica', 'Iris-virginica', 'Iris-virginica', 'Iris-virginica', 'Iris-virginica', 'Iris-virginica', 'Iris-virginica', 'Iris-virginica', 'Iris-virginica', 'Iris-virginica', 'Iris-virginica', 'Iris-virginica', 'Iris-virginica', 'Iris-virginica', 'Iris-virginica', 'Iris-virginica', 'Iris-virginica', 'Iris-virginica', 'Iris-virginica']}\n"
     ]
    }
   ],
   "source": [
    "import csv\n",
    "csv_reader = csv.DictReader(open('iris-write-from-docker.csv'))\n",
    "\n",
    "iris_dict = {}\n",
    "\n",
    "for row in csv_reader:\n",
    "    for col, value in row.items():\n",
    "        iris_dict.setdefault(col, []).append(value)\n",
    "\n",
    "print(iris_dict)\n",
    "            "
   ]
  },
  {
   "cell_type": "markdown",
   "metadata": {
    "id": "BIKwpU6oP7kF"
   },
   "source": [
    "**b)** **(10 Points)**  Write a script that reads the iris data into a dictionary where the flower names are the `Keys` and all rows belonging to a flower are the `Values`.\n",
    "\n",
    "The output of running this script would be similar to the following:\n",
    "```\n",
    "Iris-setosa\n",
    "\t [5.1, 3.5, 1.4, 0.2]\n",
    "\t [4.9, 3.0, 1.4, 0.2]\n",
    "\t [4.7, 3.2, 1.3, 0.2]\n",
    "\t [..., ..., ..., ...]\n",
    "   [4.6, 3.2, 1.4, 0.2]\n",
    "\t [5.3, 3.7, 1.5, 0.2]\n",
    "\t [5.0, 3.3, 1.4, 0.2]\n",
    "Iris-versicolor\n",
    "\t [7.0, 3.2, 4.7, 1.4]\n",
    "\t [6.4, 3.2, 4.5, 1.5]\n",
    "\t [6.9, 3.1, 4.9, 1.5]\n",
    "\t [..., ..., ..., ...]\n",
    "   [6.2, 2.9, 4.3, 1.3]\n",
    "\t [5.1, 2.5, 3.0, 1.1]\n",
    "\t [5.7, 2.8, 4.1, 1.3]\n",
    "Iris-virginica\n",
    "\t [6.3, 3.3, 6.0, 2.5]\n",
    "\t [5.8, 2.7, 5.1, 1.9]\n",
    "\t [7.1, 3.0, 5.9, 2.1]\n",
    "\t [..., ..., ..., ...]\n",
    "   [6.5, 3.0, 5.2, 2.0]\n",
    "\t [6.2, 3.4, 5.4, 2.3]\n",
    "\t [5.9, 3.0, 5.1, 1.8]\n",
    "```\n"
   ]
  },
  {
   "cell_type": "code",
   "execution_count": 37,
   "metadata": {
    "execution": {
     "iopub.execute_input": "2022-03-07T18:39:49.562Z",
     "iopub.status.busy": "2022-03-07T18:39:49.552Z",
     "iopub.status.idle": "2022-03-07T18:39:49.572Z",
     "shell.execute_reply": "2022-03-07T18:39:49.377Z"
    },
    "id": "xM7SYNYIPllk"
   },
   "outputs": [
    {
     "name": "stdout",
     "output_type": "stream",
     "text": [
      "{'Iris-setosa': [['5.1', '3.5', '1.4', '0.2'], ['4.9', '3.0', '1.4', '0.2'], ['4.7', '3.2', '1.3', '0.2'], ['4.6', '3.1', '1.5', '0.2'], ['5.0', '3.6', '1.4', '0.2'], ['5.4', '3.9', '1.7', '0.4'], ['4.6', '3.4', '1.4', '0.3'], ['5.0', '3.4', '1.5', '0.2'], ['4.4', '2.9', '1.4', '0.2'], ['4.9', '3.1', '1.5', '0.1'], ['5.4', '3.7', '1.5', '0.2'], ['4.8', '3.4', '1.6', '0.2'], ['4.8', '3.0', '1.4', '0.1'], ['4.3', '3.0', '1.1', '0.1'], ['5.8', '4.0', '1.2', '0.2'], ['5.7', '4.4', '1.5', '0.4'], ['5.4', '3.9', '1.3', '0.4'], ['5.1', '3.5', '1.4', '0.3'], ['5.7', '3.8', '1.7', '0.3'], ['5.1', '3.8', '1.5', '0.3'], ['5.4', '3.4', '1.7', '0.2'], ['5.1', '3.7', '1.5', '0.4'], ['4.6', '3.6', '1.0', '0.2'], ['5.1', '3.3', '1.7', '0.5'], ['4.8', '3.4', '1.9', '0.2'], ['5.0', '3.0', '1.6', '0.2'], ['5.0', '3.4', '1.6', '0.4'], ['5.2', '3.5', '1.5', '0.2'], ['5.2', '3.4', '1.4', '0.2'], ['4.7', '3.2', '1.6', '0.2'], ['4.8', '3.1', '1.6', '0.2'], ['5.4', '3.4', '1.5', '0.4'], ['5.2', '4.1', '1.5', '0.1'], ['5.5', '4.2', '1.4', '0.2'], ['4.9', '3.1', '1.5', '0.1'], ['5.0', '3.2', '1.2', '0.2'], ['5.5', '3.5', '1.3', '0.2'], ['4.9', '3.1', '1.5', '0.1'], ['4.4', '3.0', '1.3', '0.2'], ['5.1', '3.4', '1.5', '0.2'], ['5.0', '3.5', '1.3', '0.3'], ['4.5', '2.3', '1.3', '0.3'], ['4.4', '3.2', '1.3', '0.2'], ['5.0', '3.5', '1.6', '0.6'], ['5.1', '3.8', '1.9', '0.4'], ['4.8', '3.0', '1.4', '0.3'], ['5.1', '3.8', '1.6', '0.2'], ['4.6', '3.2', '1.4', '0.2'], ['5.3', '3.7', '1.5', '0.2'], ['5.0', '3.3', '1.4', '0.2']], 'Iris-versicolor': [['7.0', '3.2', '4.7', '1.4'], ['6.4', '3.2', '4.5', '1.5'], ['6.9', '3.1', '4.9', '1.5'], ['5.5', '2.3', '4.0', '1.3'], ['6.5', '2.8', '4.6', '1.5'], ['5.7', '2.8', '4.5', '1.3'], ['6.3', '3.3', '4.7', '1.6'], ['4.9', '2.4', '3.3', '1.0'], ['6.6', '2.9', '4.6', '1.3'], ['5.2', '2.7', '3.9', '1.4'], ['5.0', '2.0', '3.5', '1.0'], ['5.9', '3.0', '4.2', '1.5'], ['6.0', '2.2', '4.0', '1.0'], ['6.1', '2.9', '4.7', '1.4'], ['5.6', '2.9', '3.6', '1.3'], ['6.7', '3.1', '4.4', '1.4'], ['5.6', '3.0', '4.5', '1.5'], ['5.8', '2.7', '4.1', '1.0'], ['6.2', '2.2', '4.5', '1.5'], ['5.6', '2.5', '3.9', '1.1'], ['5.9', '3.2', '4.8', '1.8'], ['6.1', '2.8', '4.0', '1.3'], ['6.3', '2.5', '4.9', '1.5'], ['6.1', '2.8', '4.7', '1.2'], ['6.4', '2.9', '4.3', '1.3'], ['6.6', '3.0', '4.4', '1.4'], ['6.8', '2.8', '4.8', '1.4'], ['6.7', '3.0', '5.0', '1.7'], ['6.0', '2.9', '4.5', '1.5'], ['5.7', '2.6', '3.5', '1.0'], ['5.5', '2.4', '3.8', '1.1'], ['5.5', '2.4', '3.7', '1.0'], ['5.8', '2.7', '3.9', '1.2'], ['6.0', '2.7', '5.1', '1.6'], ['5.4', '3.0', '4.5', '1.5'], ['6.0', '3.4', '4.5', '1.6'], ['6.7', '3.1', '4.7', '1.5'], ['6.3', '2.3', '4.4', '1.3'], ['5.6', '3.0', '4.1', '1.3'], ['5.5', '2.5', '4.0', '1.3'], ['5.5', '2.6', '4.4', '1.2'], ['6.1', '3.0', '4.6', '1.4'], ['5.8', '2.6', '4.0', '1.2'], ['5.0', '2.3', '3.3', '1.0'], ['5.6', '2.7', '4.2', '1.3'], ['5.7', '3.0', '4.2', '1.2'], ['5.7', '2.9', '4.2', '1.3'], ['6.2', '2.9', '4.3', '1.3'], ['5.1', '2.5', '3.0', '1.1'], ['5.7', '2.8', '4.1', '1.3']], 'Iris-virginica': [['6.3', '3.3', '6.0', '2.5'], ['5.8', '2.7', '5.1', '1.9'], ['7.1', '3.0', '5.9', '2.1'], ['6.3', '2.9', '5.6', '1.8'], ['6.5', '3.0', '5.8', '2.2'], ['7.6', '3.0', '6.6', '2.1'], ['4.9', '2.5', '4.5', '1.7'], ['7.3', '2.9', '6.3', '1.8'], ['6.7', '2.5', '5.8', '1.8'], ['7.2', '3.6', '6.1', '2.5'], ['6.5', '3.2', '5.1', '2.0'], ['6.4', '2.7', '5.3', '1.9'], ['6.8', '3.0', '5.5', '2.1'], ['5.7', '2.5', '5.0', '2.0'], ['5.8', '2.8', '5.1', '2.4'], ['6.4', '3.2', '5.3', '2.3'], ['6.5', '3.0', '5.5', '1.8'], ['7.7', '3.8', '6.7', '2.2'], ['7.7', '2.6', '6.9', '2.3'], ['6.0', '2.2', '5.0', '1.5'], ['6.9', '3.2', '5.7', '2.3'], ['5.6', '2.8', '4.9', '2.0'], ['7.7', '2.8', '6.7', '2.0'], ['6.3', '2.7', '4.9', '1.8'], ['6.7', '3.3', '5.7', '2.1'], ['7.2', '3.2', '6.0', '1.8'], ['6.2', '2.8', '4.8', '1.8'], ['6.1', '3.0', '4.9', '1.8'], ['6.4', '2.8', '5.6', '2.1'], ['7.2', '3.0', '5.8', '1.6'], ['7.4', '2.8', '6.1', '1.9'], ['7.9', '3.8', '6.4', '2.0'], ['6.4', '2.8', '5.6', '2.2'], ['6.3', '2.8', '5.1', '1.5'], ['6.1', '2.6', '5.6', '1.4'], ['7.7', '3.0', '6.1', '2.3'], ['6.3', '3.4', '5.6', '2.4'], ['6.4', '3.1', '5.5', '1.8'], ['6.0', '3.0', '4.8', '1.8'], ['6.9', '3.1', '5.4', '2.1'], ['6.7', '3.1', '5.6', '2.4'], ['6.9', '3.1', '5.1', '2.3'], ['5.8', '2.7', '5.1', '1.9'], ['6.8', '3.2', '5.9', '2.3'], ['6.7', '3.3', '5.7', '2.5'], ['6.7', '3.0', '5.2', '2.3'], ['6.3', '2.5', '5.0', '1.9'], ['6.5', '3.0', '5.2', '2.0'], ['6.2', '3.4', '5.4', '2.3'], ['5.9', '3.0', '5.1', '1.8']]}\n"
     ]
    }
   ],
   "source": [
    "import csv\n",
    "csv_reader = csv.DictReader(open('iris-write-from-docker.csv'))\n",
    "\n",
    "flowers = {}\n",
    "\n",
    "for row in csv_reader:\n",
    "    row_data = [row['sepal_length'], row['sepal_width'], row['petal_length'], row['petal_width']]\n",
    "    flowers.setdefault(row['class'],[]).append(row_data)\n",
    "\n",
    "print(flowers)"
   ]
  },
  {
   "cell_type": "markdown",
   "metadata": {
    "id": "1pXjKc23jXTj"
   },
   "source": [
    "*****\n",
    "\n"
   ]
  },
  {
   "cell_type": "markdown",
   "metadata": {
    "id": "xXbeFmorIgxn"
   },
   "source": [
    "### Question 2  **[25 pts]**:\n",
    "\n",
    "A Graph is a non-linear data structure consisting of vertices (nodes) and edges (links) connecting the vertices.\n",
    "\n",
    "In this question, you are expected to create a Graph class with a set of respective functions and methods. \n",
    "Note: While answering this question, you are **not allowed** to use Python's `LinkedDirectedGraph` library."
   ]
  },
  {
   "cell_type": "markdown",
   "metadata": {
    "id": "9A1qvV3TKTqW"
   },
   "source": [
    "**a)** **[10 pts]** Define and implement a class named 'UndirectedGraph'.  This class constructs the necessary attributes that hold the following information about the instantiated graphs: \n",
    "* The `vertices` attribute, which is a set of nodes that may or may not be connected through edges. \n",
    "* The `addVertex(vertexName)` method, which accepts one parameter as the vertex name and adds it to the graph. \n",
    "* The `getVertex(vertexName)` method that returns the name of the vertex if it exists or None if it does not exist in the graph.\n",
    "* The `removeVertex(vertexName)` method deletes the vertex name if there is one with the same name in the graph\n",
    "* The `listVertices()` method displays the vertices names included in the graph.\n",
    "\n",
    "Here is an example of creating an UndirectedGraph() object, adding three vertices: `A`, `B` and `C`, removing vertex `B`, then listing the existing vertices.\n",
    "```\n",
    "myGraph = UndirectedGraph()\n",
    "myGraph.addVertex('A')\n",
    "myGraph.addVertex('B')\n",
    "myGraph.addVertex('C')\n",
    "myGraph.removeVertex('B')\n",
    "myGraph.listVertices() # returns A, C\n",
    "```"
   ]
  },
  {
   "cell_type": "code",
   "execution_count": 38,
   "metadata": {
    "colab": {
     "base_uri": "https://localhost:8080/"
    },
    "execution": {
     "iopub.execute_input": "2022-03-07T18:39:49.596Z",
     "iopub.status.busy": "2022-03-07T18:39:49.586Z",
     "iopub.status.idle": "2022-03-07T18:39:49.604Z",
     "shell.execute_reply": "2022-03-07T18:39:49.386Z"
    },
    "id": "6E4RoZeIjvYo",
    "outputId": "b02b9df6-e110-4e3a-d03d-8fc7f7c8226a"
   },
   "outputs": [
    {
     "name": "stdout",
     "output_type": "stream",
     "text": [
      "A\n",
      "C\n"
     ]
    }
   ],
   "source": [
    "class UndirectedGraph:\n",
    "    def __init__(self):\n",
    "        self.vertices = list()\n",
    "    def addVertex(self, vertexName):\n",
    "        self.vertices.append(vertexName)\n",
    "        return(self.vertices)\n",
    "    def getVertex(self, vertexName):\n",
    "        if vertexName in self.vertices:\n",
    "            return(vertexName)\n",
    "        else:\n",
    "            print(\"Error: Vertex not in list.\")\n",
    "    def removeVertex(self, vertexName):\n",
    "        if vertexName in self.vertices:\n",
    "            self.vertices.remove(vertexName)\n",
    "            return self.vertices\n",
    "    def listVertices(self):\n",
    "        for i in self.vertices:\n",
    "            print(i)\n",
    "\n",
    "myGraph = UndirectedGraph()\n",
    "myGraph.addVertex('A')\n",
    "myGraph.addVertex('B')\n",
    "myGraph.addVertex('C')\n",
    "myGraph.removeVertex('B')\n",
    "myGraph.listVertices() # returns A, C"
   ]
  },
  {
   "cell_type": "markdown",
   "metadata": {
    "id": "Jliol06GqMjV"
   },
   "source": [
    "**b)** **[10 pts]** Enhance the `UndirectedGraph` class that you defined in Q2.a by adding the edges information that connects the existing vertices. Here are the methods you need to define and implement.\n",
    "* The `addEdge(vertex1, vertex2)` method to add an edge connecting vertex1 to vertex2.\n",
    "* The `checkEdge(vertex1, vertex2)` method returns `True` if an edge exists between `vertex1` and `vertex2`, otherwise it returns `False`.  Note that the edges are not directional.\n",
    "* The `removeEdge(vertex1, vertex2)` method removes the edge between the respective vertices: vertex1 and vertex2. \n",
    "* The `listEdges(ofVertex)` method displays the edges of the respective vertex. \n",
    "* Update the `removeVertex(vertexName)` method to ensure removing the associated edges before removing the vertex.\n",
    "\n",
    "Here is an example that creates a graph object with three vertices: A, B and C, then connects A with B and B with C, then displays the edges of vertex B.\n",
    "```\n",
    "myGraph = UndirectedGraph()\n",
    "myGraph.addVertex('A')\n",
    "myGraph.addVertex('B')\n",
    "myGraph.addVertex('C')\n",
    "myGraph.addEdge('A','B')\n",
    "myGraph.addEdge('B','C')\n",
    "myGraph.listEdges('B') # returns 'A-B , B-C'\n",
    "```\n"
   ]
  },
  {
   "cell_type": "code",
   "execution_count": 39,
   "metadata": {
    "colab": {
     "base_uri": "https://localhost:8080/",
     "height": 35
    },
    "execution": {
     "iopub.execute_input": "2022-03-07T18:39:49.623Z",
     "iopub.status.busy": "2022-03-07T18:39:49.615Z",
     "iopub.status.idle": "2022-03-07T18:39:49.632Z",
     "shell.execute_reply": "2022-03-07T18:39:49.397Z"
    },
    "id": "82y-wyaqcnLj",
    "outputId": "bc163922-c90b-46b3-92fa-50c6b56fdd00"
   },
   "outputs": [
    {
     "data": {
      "text/plain": [
       "'A-B B-C '"
      ]
     },
     "execution_count": 39,
     "metadata": {},
     "output_type": "execute_result"
    }
   ],
   "source": [
    "class UndirectedGraph:\n",
    "    def __init__(self):\n",
    "        self.vertices = list()\n",
    "        self.edges = list()\n",
    "    def addVertex(self, vertexName):\n",
    "        self.vertices.append(vertexName)\n",
    "        return(self.vertices)\n",
    "    def getVertex(self, vertexName):\n",
    "        if vertexName in self.vertices:\n",
    "            return(vertexName)\n",
    "        else:\n",
    "            print(\"Error: Vertex not in list.\")\n",
    "    def removeVertex(self, vertexName):\n",
    "        if vertexName in self.vertices:\n",
    "            for h in self.edges:\n",
    "                if vertexName in h:\n",
    "                    self.edges.remove(h)\n",
    "            self.vertices.remove(vertexName)\n",
    "            return self.vertices\n",
    "    def listVertices(self):\n",
    "        for i in self.vertices:\n",
    "            return(i)\n",
    "    def addEdge(self, vertex1, vertex2):\n",
    "        if vertex1 in self.vertices and vertex2 in self.vertices:\n",
    "            new_edge = [vertex1, vertex2]\n",
    "            swap_newedge = [vertex2, vertex1]\n",
    "            if new_edge in self.edges or swap_newedge in self.edges:\n",
    "                print(\"Error: Edge already in list.\")\n",
    "            else:\n",
    "                self.edges.append(new_edge)\n",
    "        else:\n",
    "            print(\"Error: Vertex not in list.\")\n",
    "    def checkEdge(self, vertex1, vertex2):\n",
    "        find_edge = [vertex1, vertex2]\n",
    "        swapfind_edge = [vertex2, vertex1]\n",
    "        if find_edge in self.edges or swapfind_edge in self.edges:\n",
    "            return True\n",
    "        else:\n",
    "            return False\n",
    "    def removeEdge(self, vertex1, vertex2):\n",
    "        find_edge = [vertex1, vertex2]\n",
    "        swapfind_edge = [vertex2, vertex1]\n",
    "        if find_edge in self.edges or swapfind_edge in self.edges:\n",
    "            self.edges.remove(find_edge)\n",
    "            return self.edges\n",
    "        elif swapfind_edge in self.edges:\n",
    "            self.edges.remove(swapfind_edge)\n",
    "            return self.edges\n",
    "        else:\n",
    "            print(\"Error: Edge not in list.\")\n",
    "    def listEdges(self, vertexName):\n",
    "        edge = \"\"\n",
    "        for j in self.edges:\n",
    "            if vertexName in j:\n",
    "                edge += '-'.join(j) + \" \"\n",
    "        return edge\n",
    "\n",
    "myGraph = UndirectedGraph()\n",
    "myGraph.addVertex('A')\n",
    "myGraph.addVertex('B')\n",
    "myGraph.addVertex('C')\n",
    "myGraph.addEdge('A','B')\n",
    "myGraph.addEdge('B','C')\n",
    "myGraph.listEdges('B') # returns 'A-B , B-C'"
   ]
  },
  {
   "cell_type": "markdown",
   "metadata": {
    "id": "OqQxLid0qoqm"
   },
   "source": [
    "**c)** **[5 pts]** Use your answer in Q2.b. to create a graph object with the following vertices and edges: \n",
    "* `Vertices = 'A', 'B', 'C', 'D', 'E'`\n",
    "* `Edges = 'A-B', 'A-C', 'A-D', 'D-B', 'D-C', 'C-B', 'E-D'`\n",
    "\n",
    "Then, run the following commands, assuming the name of the graph object is `iGraph`):\n",
    "```\n",
    "iGraph.getVertex('K')\n",
    "iGraph.getVertex('A')\n",
    "print(\"Vertices of the graph: \" + iGraph.listVertices())\n",
    "print(\"Edges of Vertex D: \\n\" + iGraph.listEdges(\"D\"))\n",
    "graph.removeVertex('D')\n",
    "print(\"Vertices of the graph: \" +iGraph.listVertices())\n",
    "print(\"Edges of Vertex D: \\n\" + iGraph.listEdges('D'))\n",
    "```"
   ]
  },
  {
   "cell_type": "code",
   "execution_count": 40,
   "metadata": {
    "colab": {
     "base_uri": "https://localhost:8080/"
    },
    "execution": {
     "iopub.execute_input": "2022-03-07T18:39:49.655Z",
     "iopub.status.busy": "2022-03-07T18:39:49.647Z",
     "iopub.status.idle": "2022-03-07T18:39:49.664Z",
     "shell.execute_reply": "2022-03-07T18:39:49.406Z"
    },
    "id": "pEgwhCm2fHBx",
    "outputId": "20069615-7d24-4c29-b9b8-260cac8e6e0a"
   },
   "outputs": [
    {
     "name": "stdout",
     "output_type": "stream",
     "text": [
      "Error: Vertex not in list.\n",
      "Vertices of the graph: A\n",
      "Edges of Vertex D: \n",
      "A-D D-B D-C E-D \n",
      "Vertices of the graph: A\n",
      "Edges of Vertex D: \n",
      "D-B \n"
     ]
    }
   ],
   "source": [
    "iGraph = UndirectedGraph()\n",
    "iGraph.addVertex('A')\n",
    "iGraph.addVertex('B')\n",
    "iGraph.addVertex('C')\n",
    "iGraph.addVertex('D')\n",
    "iGraph.addVertex('E')\n",
    "iGraph.addEdge('A', 'B')\n",
    "iGraph.addEdge('A', 'C')\n",
    "iGraph.addEdge('A', 'D')\n",
    "iGraph.addEdge('D', 'B')\n",
    "iGraph.addEdge('D', 'C')\n",
    "iGraph.addEdge('C', 'B')\n",
    "iGraph.addEdge('E', 'D')\n",
    "\n",
    "iGraph.getVertex('K')\n",
    "iGraph.getVertex('A')\n",
    "print(\"Vertices of the graph: \" + iGraph.listVertices())\n",
    "print(\"Edges of Vertex D: \\n\" + iGraph.listEdges(\"D\"))\n",
    "iGraph.removeVertex('D')\n",
    "print(\"Vertices of the graph: \" +iGraph.listVertices())\n",
    "print(\"Edges of Vertex D: \\n\" + iGraph.listEdges('D'))"
   ]
  },
  {
   "cell_type": "markdown",
   "metadata": {
    "id": "---j1S_A1-u4"
   },
   "source": [
    "### Question 3  **[30 pts]**: \n",
    "\n",
    "Define a class named **Stat** that can be instantiated with a list of integers. \n",
    "\n",
    "Note: Only Python [built-in functions](https://docs.python.org/3.7/library/functions.html) are allowed to be used in this question. Do not use a third-party library for any part of the code. Importing any third-party library will result in marks deduction.** "
   ]
  },
  {
   "cell_type": "markdown",
   "metadata": {
    "id": "pvvOSOdw2AZB"
   },
   "source": [
    "**a)** **[10 pts]** Instantiate the Stat class with a constructor that accepts a list of integers. Each instantiated object should have two attributes: length and items. The length returns the number of elements of the object, and the items attribute returns the content of the list.\n",
    "\n",
    "For example, if objStat = Stat([5, 3, 7, 3, 6, 4, 5, 8, 2, 9, 3, 4, 20, -10]) then the length should be 14 and the items [5, 3, 7, 3, 6, 4, 5, 8, 2, 9, 3, 4, 20, -10]"
   ]
  },
  {
   "cell_type": "code",
   "execution_count": 43,
   "metadata": {
    "colab": {
     "base_uri": "https://localhost:8080/"
    },
    "execution": {
     "iopub.execute_input": "2022-03-07T18:39:49.684Z",
     "iopub.status.busy": "2022-03-07T18:39:49.677Z",
     "iopub.status.idle": "2022-03-07T18:39:49.695Z",
     "shell.execute_reply": "2022-03-07T18:39:49.414Z"
    },
    "id": "_W2aenN42AwP",
    "outputId": "16e1c00e-3b84-45aa-e188-581fdaad0f82"
   },
   "outputs": [
    {
     "name": "stdout",
     "output_type": "stream",
     "text": [
      "14\n",
      "5 3 7 3 6 4 5 8 2 9 3 4 20 -10 "
     ]
    }
   ],
   "source": [
    "class Stat:\n",
    "    def __init__(self, list):\n",
    "        self.list = list\n",
    "    def __len__(self):\n",
    "        return len(self.list)\n",
    "    def __iter__(self):\n",
    "        return iter(self.list)\n",
    "\n",
    "objStat = Stat([5, 3, 7, 3, 6, 4, 5, 8, 2, 9, 3, 4, 20, -10])\n",
    "print(len(objStat))\n",
    "for i in objStat:\n",
    "    print(i, end=' ')"
   ]
  },
  {
   "cell_type": "markdown",
   "metadata": {
    "id": "ZiEU20O0t_ce"
   },
   "source": [
    "**b)** **(10 Points)** Define and implement a mutator method named **sortStat** as a member of the **Stat** class. The **sortStat** method sorts the `items` attribute elements in ascending order. Use the insertion sort algorithm for this task. \n",
    "\n",
    "For example, if `objStat = Stat([5, 3, 7, 3, 6, 4, 5, 8, 2, 9, 3, 4, 20, -10])` then after invoking the `sortStat` method, the `items` attribute will be `[-10, 2, 3, 3, 3, 4, 4, 5, 5, 6, 7, 8, 9, 20]`"
   ]
  },
  {
   "cell_type": "code",
   "execution_count": 44,
   "metadata": {
    "colab": {
     "base_uri": "https://localhost:8080/"
    },
    "execution": {
     "iopub.execute_input": "2022-03-07T18:39:49.718Z",
     "iopub.status.busy": "2022-03-07T18:39:49.708Z",
     "iopub.status.idle": "2022-03-07T18:39:49.726Z",
     "shell.execute_reply": "2022-03-07T18:39:49.422Z"
    },
    "id": "qKoYFdtvuFDc",
    "outputId": "6368bd91-59ae-4e93-8f76-7f7a955a7aec"
   },
   "outputs": [
    {
     "data": {
      "text/plain": [
       "[-10, 2, 3, 3, 3, 4, 4, 5, 5, 6, 7, 8, 9, 20]"
      ]
     },
     "execution_count": 44,
     "metadata": {},
     "output_type": "execute_result"
    }
   ],
   "source": [
    "class Stat:\n",
    "    def __init__(self, list):\n",
    "        self.list = list\n",
    "    def __len__(self):\n",
    "        return len(self.list)\n",
    "    def __iter__(self):\n",
    "        return iter(self.list)\n",
    "    def sortStat(self):\n",
    "        i = 1\n",
    "        while i < len(self.list):\n",
    "            itemToInsert = self.list[i]\n",
    "            j = i - 1\n",
    "            while j >= 0:\n",
    "                if itemToInsert < self.list[j]:\n",
    "                    self.list[j + 1] = self.list[j]\n",
    "                    j -= 1\n",
    "                else:\n",
    "                    break\n",
    "            self.list[j + 1] = itemToInsert\n",
    "            i += 1\n",
    "        return self.list\n",
    "\n",
    "objStat = Stat([5, 3, 7, 3, 6, 4, 5, 8, 2, 9, 3, 4, 20, -10])\n",
    "objStat.sortStat()"
   ]
  },
  {
   "cell_type": "markdown",
   "metadata": {
    "id": "PCrlUQjmuQmi"
   },
   "source": [
    "**c)** **(10 Points)** Define and implement an accessor method named *belongStat* method as a member of the **Stat** class. The *belongStat* method accepts an integer and returns True if the number exists in the `items` list; otherwise, the method should return False. Use the binary search algorithm for this task.\n",
    "\n",
    "For example, if `objStat = Stat([5, 3, 7, 3, 6, 4, 5, 8, 2, 9, 3, 4, 20, -10])` and the user invoked the the `belongStat()` method with `8`, then the method will return `True`."
   ]
  },
  {
   "cell_type": "code",
   "execution_count": 45,
   "metadata": {
    "colab": {
     "base_uri": "https://localhost:8080/"
    },
    "execution": {
     "iopub.execute_input": "2022-03-07T18:39:49.743Z",
     "iopub.status.busy": "2022-03-07T18:39:49.736Z",
     "iopub.status.idle": "2022-03-07T18:39:49.751Z",
     "shell.execute_reply": "2022-03-07T18:39:49.431Z"
    },
    "id": "lzqxy9AnuTmI",
    "outputId": "21a09e8c-9230-4ddb-b5d9-3009c9f2ab5e"
   },
   "outputs": [
    {
     "data": {
      "text/plain": [
       "True"
      ]
     },
     "execution_count": 45,
     "metadata": {},
     "output_type": "execute_result"
    }
   ],
   "source": [
    "class Stat:\n",
    "    def __init__(self, list):\n",
    "        self.list = list\n",
    "    def __len__(self):\n",
    "        return len(self.list)\n",
    "    def __iter__(self):\n",
    "        return iter(self.list)\n",
    "    def sortStat(self):\n",
    "        i = 1\n",
    "        while i < len(self.list):\n",
    "            itemToInsert = self.list[i]\n",
    "            j = i - 1\n",
    "            while j >= 0:\n",
    "                if itemToInsert < self.list[j]:\n",
    "                    self.list[j + 1] = self.list[j]\n",
    "                    j -= 1\n",
    "                else:\n",
    "                    break\n",
    "            self.list[j + 1] = itemToInsert\n",
    "            i += 1\n",
    "        return self.list\n",
    "    def belongStat(self, target):\n",
    "        left = 0\n",
    "        right = len(self.sortStat()) - 1\n",
    "        while left <= right:\n",
    "            mid = (left + right) // 2\n",
    "            if target == self.sortStat()[mid]:\n",
    "                return True\n",
    "            elif target < self.sortStat()[mid]:\n",
    "                right = mid - 1\n",
    "            else:\n",
    "                left = mid + 1\n",
    "\n",
    "objStat = Stat([5, 3, 7, 3, 6, 4, 5, 8, 2, 9, 3, 4, 20, -10])\n",
    "objStat.belongStat(8)"
   ]
  },
  {
   "cell_type": "markdown",
   "metadata": {
    "id": "Z5lAKTm6SWNs"
   },
   "source": [
    "### Question 4  **[25 pts]**:\n",
    "\n",
    "Assume the following class implements the STACK abstract data type (ADT) using the array ADT.\n",
    "\n",
    "```\n",
    "class aStack(iArray):\n",
    "    def __init__(self, capacity = 5):\n",
    "        self._items = iArray(capacity)\n",
    "        self._top = -1\n",
    "        self._size = 0 \n",
    "    def push(self, newItem):\n",
    "        self._top += 1\n",
    "        self._size += 1\n",
    "        self._items[self._top] = newItem\n",
    "    def pop(self):\n",
    "        oldItem = self._items[self._top]\n",
    "        self._items[self._top] = None\n",
    "        self._top -= 1\n",
    "        self._size -= 1\n",
    "        return oldItem\n",
    "    def peek(self):\n",
    "        return self._items[self._top]\n",
    "    def __len__(self):\n",
    "        return self._size\n",
    "    def __str__(self):\n",
    "        result = ' '\n",
    "        for i in range(len(self)):\n",
    "            result += str(self._items[i]) + ' '\n",
    "        return result\n",
    "```\n"
   ]
  },
  {
   "cell_type": "markdown",
   "metadata": {
    "id": "nkZH7oR39oPj"
   },
   "source": [
    "**a) [5 pts]** Emulate the stack behavior using the Python list data structure rather than the Arrary ADT."
   ]
  },
  {
   "cell_type": "code",
   "execution_count": 46,
   "metadata": {
    "colab": {
     "base_uri": "https://localhost:8080/"
    },
    "execution": {
     "iopub.execute_input": "2022-03-07T18:39:49.767Z",
     "iopub.status.busy": "2022-03-07T18:39:49.760Z",
     "iopub.status.idle": "2022-03-07T18:39:49.776Z",
     "shell.execute_reply": "2022-03-07T18:39:49.445Z"
    },
    "id": "LxINBa-8993I",
    "outputId": "e180fd9e-de3a-4980-e4e5-2b76df392417"
   },
   "outputs": [
    {
     "name": "stdout",
     "output_type": "stream",
     "text": [
      " 5 3 7 3 6 4 5 8 2 9 3 4 20 \n",
      " 25 5 3 7 3 6 4 5 8 2 9 3 4 20 \n",
      "14\n",
      "['25', '5', '3', '7', '3', '6', '4', '5', '8', '2', '9', '3', '4', '20']\n"
     ]
    }
   ],
   "source": [
    "class anotherStack():\n",
    "    def __init__(self, iList):\n",
    "        self._items = iList\n",
    "        self._top = -1\n",
    "    def push(self, newItem):\n",
    "        self._top += 1\n",
    "        self._items.insert(self._top, newItem)\n",
    "    def pop(self):\n",
    "        to_pop = self._items[self._top]\n",
    "        self._items.pop()\n",
    "        return to_pop\n",
    "    def peek(self):\n",
    "        return self._items[self._top]\n",
    "    def __len__(self):\n",
    "        return len(self._items)\n",
    "    def __str__(self):\n",
    "        result = ' '\n",
    "        for i in self._items:\n",
    "            result += str(i) + ' '\n",
    "        return result\n",
    "\n",
    "try_it = anotherStack([5, 3, 7, 3, 6, 4, 5, 8, 2, 9, 3, 4, 20, -10])\n",
    "try_it.pop()\n",
    "print(try_it)\n",
    "try_it.push(25)\n",
    "print(try_it)\n",
    "try_it.peek()\n",
    "print(len(try_it))\n",
    "print(str(try_it).split())"
   ]
  },
  {
   "cell_type": "markdown",
   "metadata": {
    "id": "94TqcosX3lii"
   },
   "source": [
    "**b)**  **[10 pts]** Redefine the Stack class methods to push and pop two items rather than one item at a time.\n",
    "\n",
    "For example, if the stack includes numbers from one to ten:\n",
    "`[1, 2, 3, 4, 5, 6, 7, 8, 9, 10]`, then invoking the `pop()` method twice will remove the last four elements and modify the stack elements to be:\n",
    "`[1, 2, 3, 4, 5, 6]`\n",
    "\n"
   ]
  },
  {
   "cell_type": "code",
   "execution_count": 47,
   "metadata": {
    "colab": {
     "base_uri": "https://localhost:8080/"
    },
    "execution": {
     "iopub.execute_input": "2022-03-07T18:39:49.796Z",
     "iopub.status.busy": "2022-03-07T18:39:49.789Z",
     "iopub.status.idle": "2022-03-07T18:39:49.804Z",
     "shell.execute_reply": "2022-03-07T18:39:49.462Z"
    },
    "id": "VM1VhboJSWNs",
    "jupyter": {
     "outputs_hidden": false
    },
    "outputId": "b2ccb32e-842b-4bb4-c6ba-ffdb8653c163",
    "pycharm": {
     "name": "#%%\n"
    }
   },
   "outputs": [
    {
     "name": "stdout",
     "output_type": "stream",
     "text": [
      " 1 2 3 4 5 6 \n"
     ]
    }
   ],
   "source": [
    "class anotherStack():\n",
    "    def __init__(self, iList):\n",
    "        self._items = iList\n",
    "        self._top = -1\n",
    "    def push(self, newItem):\n",
    "        for i in range(2):\n",
    "            self._top += 1\n",
    "            self._items.insert(self._top, newItem)\n",
    "    def pop(self):\n",
    "        to_pop = []\n",
    "        for j in range(2):\n",
    "            to_pop.append(self._items[self._top])\n",
    "            self._items.pop()\n",
    "        return to_pop\n",
    "    def peek(self):\n",
    "        return self._items[self._top]\n",
    "    def __len__(self):\n",
    "        return len(self._items)\n",
    "    def __str__(self):\n",
    "        result = ' '\n",
    "        for i in self._items:\n",
    "            result += str(i) + ' '\n",
    "        return result\n",
    "\n",
    "try_it = anotherStack([1, 2, 3, 4, 5, 6, 7, 8, 9, 10])\n",
    "try_it.pop()\n",
    "try_it.pop()\n",
    "print(try_it)"
   ]
  },
  {
   "cell_type": "markdown",
   "metadata": {
    "id": "jy3QeiXu3679"
   },
   "source": [
    "**c)**  **[10 pts]** Define and implement a function that reverses the items of a given stack using only the methods defined in the Stack class.\n",
    "\n",
    "For example, if the stack includes the elements from one to ten: `[1, 2, 3, 4, 5, 6, 7, 8, 9, 10]`, then invoking the new function will modify the stack elements to be from ten to one: `[10, 9, 8, 7, 6, 5, 4, 3, 2, 1]`"
   ]
  },
  {
   "cell_type": "code",
   "execution_count": 48,
   "metadata": {
    "colab": {
     "base_uri": "https://localhost:8080/"
    },
    "execution": {
     "iopub.execute_input": "2022-03-07T18:39:49.824Z",
     "iopub.status.busy": "2022-03-07T18:39:49.816Z",
     "iopub.status.idle": "2022-03-07T18:39:49.834Z",
     "shell.execute_reply": "2022-03-07T18:39:49.489Z"
    },
    "id": "vvJsYxdmqYHt",
    "outputId": "6eaf34f0-b8d1-46ed-9969-da890fe75382"
   },
   "outputs": [
    {
     "name": "stdout",
     "output_type": "stream",
     "text": [
      " 10 9 8 7 6 5 4 3 2 1 \n"
     ]
    }
   ],
   "source": [
    "class anotherStack():\n",
    "    def __init__(self, iList):\n",
    "        self._items = iList\n",
    "        self._top = -1\n",
    "    def push(self, newItem):\n",
    "        self._top += 1\n",
    "        self._items.insert(self._top, newItem)\n",
    "    def pop(self):\n",
    "        to_pop = self._items[-1]\n",
    "        self._items.pop()\n",
    "        return to_pop\n",
    "    def peek(self):\n",
    "        return self._items[-1]\n",
    "    def __len__(self):\n",
    "        return len(self._items)\n",
    "    def __str__(self):\n",
    "        result = ' '\n",
    "        for i in self._items:\n",
    "            result += str(i) + ' '\n",
    "        return result\n",
    "\n",
    "try_it = anotherStack([1, 2, 3, 4, 5, 6, 7, 8, 9, 10])\n",
    "\n",
    "def reverseStack(try_it):\n",
    "    temp_stack = anotherStack([])\n",
    "    while(len(try_it) > 0):\n",
    "        temp = try_it.peek()\n",
    "        try_it.pop()\n",
    "        while(len(temp_stack) > 0 and int(temp_stack.peek()) < int(temp)):\n",
    "            try_it.push(temp_stack.peek())\n",
    "            temp_stack.pop()\n",
    "        temp_stack.push(temp)\n",
    "    return(temp_stack)\n",
    "\n",
    "print(reverseStack(try_it))"
   ]
  },
  {
   "cell_type": "markdown",
   "metadata": {
    "id": "7vRukEN2JfGX"
   },
   "source": [
    "#### This is the end of assignment 3"
   ]
  }
 ],
 "metadata": {
  "colab": {
   "collapsed_sections": [
    "A5OU74AiPt_F"
   ],
   "name": "CIND830W22_Assignment3_Q.ipynb",
   "provenance": []
  },
  "kernelspec": {
   "display_name": "Python 3",
   "language": "python",
   "name": "python3"
  },
  "language_info": {
   "codemirror_mode": {
    "name": "ipython",
    "version": 3
   },
   "file_extension": ".py",
   "mimetype": "text/x-python",
   "name": "python",
   "nbconvert_exporter": "python",
   "pygments_lexer": "ipython3",
   "version": "3.8.3"
  },
  "nteract": {
   "version": "0.28.0"
  },
  "varInspector": {
   "cols": {
    "lenName": 16,
    "lenType": 16,
    "lenVar": 40
   },
   "kernels_config": {
    "python": {
     "delete_cmd_postfix": "",
     "delete_cmd_prefix": "del ",
     "library": "var_list.py",
     "varRefreshCmd": "print(var_dic_list())"
    },
    "r": {
     "delete_cmd_postfix": ") ",
     "delete_cmd_prefix": "rm(",
     "library": "var_list.r",
     "varRefreshCmd": "cat(var_dic_list()) "
    }
   },
   "types_to_exclude": [
    "module",
    "function",
    "builtin_function_or_method",
    "instance",
    "_Feature"
   ],
   "window_display": false
  }
 },
 "nbformat": 4,
 "nbformat_minor": 1
}
