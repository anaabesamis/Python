{
  "cells": [
    {
      "cell_type": "markdown",
      "source": [
        "## CIND830 - Python Programming for Data Science  \n",
        "### Assignment 1 (10% of the final grade) \n",
        "### Due on February 07, 2022 11:59 PM "
      ],
      "metadata": {
        "id": "kJ6ssXaGJfGN"
      }
    },
    {
      "cell_type": "markdown",
      "source": [
        "*****\n",
        "This is a Jupyter Notebook document that extends a simple formatting syntax for authoring HTML and PDF. Review [this](https://jupyter-notebook.readthedocs.io/en/stable/notebook.html) website for more details on using Jupyter Notebooks.\n",
        "\n",
        "Consider using a Jupyter Notebook platform to complete this assignment. Ensure using **Python 3.7** release or higher then complete the assignment by inserting your Python code wherever seeing the string `#INSERT YOUR ANSWER HERE.`\n",
        "\n",
        "When you click the `File` button, from the top navigation bar, then select `Export Notebook to HTML`, an HTML document will be generated that includes both the assignment content and the output of any embedded Python code chunks.\n",
        "\n",
        "Use [these](https://www.ryerson.ca/courses/students/tutorials/assignments/) guidelines to submit **both** the IPYNB and the exported file (HTML). Failing to submit both files will be subject to mark deduction.\n",
        "\n",
        "Please be advised that you cannot get more than 100% in this assignment, and the **BONUS** question (if there is any) will only be graded if all other questions have been submitted."
      ],
      "metadata": {
        "id": "UWjXw7DsJfGP"
      }
    },
    {
      "cell_type": "markdown",
      "source": [
        "*****\n"
      ],
      "metadata": {
        "id": "jPrZqSxgSWNr"
      }
    },
    {
      "cell_type": "markdown",
      "source": [
        "### **Question 1  [25 pts]**:\n",
        "\n",
        "Write a python program to display all prime numbers within a given range\n",
        "\n",
        "**a)**  **[5 pts]** Take inputs from the user\n",
        "  - Take 2 inputs, a lower bound and an upper bound from the user\n"
      ],
      "metadata": {
        "id": "-eIGITiYlFcs"
      }
    },
    {
      "cell_type": "code",
      "source": [
        "#INSERT YOUR ANSWER HERE."
      ],
      "outputs": [],
      "execution_count": 1,
      "metadata": {
        "id": "Ls5c2R4ok6QD",
        "execution": {
          "shell.execute_reply": "2022-01-18T02:34:45.794Z",
          "iopub.status.busy": "2022-01-18T02:34:45.975Z",
          "iopub.execute_input": "2022-01-18T02:34:45.986Z",
          "iopub.status.idle": "2022-01-18T02:34:45.998Z"
        }
      }
    },
    {
      "cell_type": "markdown",
      "source": [
        "**b)**  **[10 pts]** Implement a solution using count-controlled loops (for loops)\n",
        "  - For the count-controlled loops, you can use the `range()` function to generate a sequence of numbers"
      ],
      "metadata": {
        "id": "zupZ7VypeT2T"
      }
    },
    {
      "cell_type": "code",
      "source": [
        "#INSERT YOUR ANSWER HERE."
      ],
      "outputs": [],
      "execution_count": 2,
      "metadata": {
        "id": "pivRxmLZ5f-M",
        "execution": {
          "shell.execute_reply": "2022-01-18T02:34:45.813Z",
          "iopub.status.busy": "2022-01-18T02:34:46.017Z",
          "iopub.execute_input": "2022-01-18T02:34:46.026Z",
          "iopub.status.idle": "2022-01-18T02:34:46.038Z"
        }
      }
    },
    {
      "cell_type": "markdown",
      "source": [
        "**c)**  **[10 pts]** Implement a solution using condition-controlled loops (while loops)"
      ],
      "metadata": {
        "id": "Omvc4DMzecdp"
      }
    },
    {
      "cell_type": "code",
      "source": [
        "#INSERT YOUR ANSWER HERE."
      ],
      "outputs": [],
      "execution_count": 3,
      "metadata": {
        "id": "s3_MqQ8J8Ntt",
        "execution": {
          "shell.execute_reply": "2022-01-18T02:34:45.827Z",
          "iopub.status.busy": "2022-01-18T02:34:46.055Z",
          "iopub.execute_input": "2022-01-18T02:34:46.070Z",
          "iopub.status.idle": "2022-01-18T02:34:46.081Z"
        }
      }
    },
    {
      "cell_type": "markdown",
      "source": [
        "***"
      ],
      "metadata": {
        "id": "xLf-vnSff-Gm"
      }
    },
    {
      "cell_type": "markdown",
      "source": [
        "### **Question 2 [25 pts]**:\n",
        "Write a python program that takes two numeric inputs `x` and `y`. \n",
        "\n",
        "**a)**  **[5 pts]** The program should take numeric inputs continuously.\n",
        "\n",
        "**b)**  **[10 pts]** The program should ensure the range of `x` and `y` is between `0` and `1`. If either one of the input values is out of range, smaller than `0` or greater than `1`, then the program should quit.\n",
        "\n",
        "**c)**  **[10 pts]** Implement `XOR` gate, where the program returns `1` if both `x` and `y` values are different; otherwise, it returns `0`.\n",
        "\n",
        "The program should work for floating-point values. \n",
        "\n",
        "For example, \n",
        "\n",
        "If `x = .3` and `y = .3`, then `xor` output should be `0`\n",
        "\n",
        "If `x = .6` and `y = .3`, then `xor` output should be `1`\n",
        "\n",
        "If `x = .3` and `y = .6`, then `xor` output should be `1`\n",
        "\n",
        "If `x = .6` and `y = .6`, then `xor` output should be `0`  "
      ],
      "metadata": {
        "id": "CaroRARQVhbV"
      }
    },
    {
      "cell_type": "code",
      "source": [
        "#INSERT YOUR ANSWER HERE."
      ],
      "outputs": [],
      "execution_count": 4,
      "metadata": {
        "id": "cA3IM2NrtMXk",
        "execution": {
          "shell.execute_reply": "2022-01-18T02:34:45.842Z",
          "iopub.status.busy": "2022-01-18T02:34:46.095Z",
          "iopub.execute_input": "2022-01-18T02:34:46.105Z",
          "iopub.status.idle": "2022-01-18T02:34:46.117Z"
        }
      }
    },
    {
      "cell_type": "markdown",
      "source": [
        "***"
      ],
      "metadata": {
        "id": "zOEOhJrTgVFk"
      }
    },
    {
      "cell_type": "markdown",
      "source": [
        "### **Question 3  [25 pts]**:\n",
        "\n",
        "**a)**  **[5 pts]**  Write a Python program to accept an integer and display its binary and octal equivalent.\n",
        "For example, if the user enters `5` then the output should be: <br>\n",
        "`The binary equivalent of 5 is 0b101`\n",
        "`The octal equivalent of 5 is 0o5`"
      ],
      "metadata": {
        "id": "Z5lAKTm6SWNs"
      }
    },
    {
      "cell_type": "code",
      "source": [
        "#INSERT YOUR ANSWER HERE."
      ],
      "outputs": [],
      "execution_count": 5,
      "metadata": {
        "jupyter": {
          "outputs_hidden": false
        },
        "pycharm": {
          "name": "#%%\n"
        },
        "id": "VM1VhboJSWNs",
        "execution": {
          "iopub.status.busy": "2022-01-18T02:34:46.136Z",
          "iopub.execute_input": "2022-01-18T02:34:46.146Z",
          "iopub.status.idle": "2022-01-18T02:34:46.159Z",
          "shell.execute_reply": "2022-01-18T02:34:45.857Z"
        }
      }
    },
    {
      "cell_type": "markdown",
      "source": [
        "**b)**  **[10 pts]** Write a Python program to calculate the distance between two given points whose coordinates are $(x_1, y_1)$ and $(x_2, y_2)$\n",
        "\n",
        "according to the following formula\n",
        "$Distance = \\sqrt{(x_2 - x_1)^2 + (y_2 - y_1)^2}$\n",
        "\n",
        "For example, if the user enters `2, 4` and `4, 8` then the output should be: <br>\n",
        "`The distance between [2.0, 4.0] and [4.0, 8.0] is 4.47213595499958`"
      ],
      "metadata": {
        "id": "Or6tr66hSWNu"
      }
    },
    {
      "cell_type": "code",
      "source": [
        "#INSERT YOUR ANSWER HERE."
      ],
      "outputs": [],
      "execution_count": 6,
      "metadata": {
        "jupyter": {
          "outputs_hidden": false
        },
        "pycharm": {
          "name": "#%%\n"
        },
        "id": "42NZR6xiSWNu",
        "execution": {
          "iopub.status.busy": "2022-01-18T02:34:46.172Z",
          "iopub.execute_input": "2022-01-18T02:34:46.180Z",
          "iopub.status.idle": "2022-01-18T02:34:46.189Z",
          "shell.execute_reply": "2022-01-18T02:34:45.877Z"
        }
      }
    },
    {
      "cell_type": "markdown",
      "source": [
        "**c)**  **[10 pts]** Write a Python program to accept an integer number and dispay the digits at the ones, tens and hundreds place of that number.  \n",
        "For example, if the user enters `86421` then the output should be:\n",
        "\n",
        "`The digit at the ones place of 86421 is 1`\n",
        "\n",
        "`The digit at the tens place of 86421 is 2`\n",
        "\n",
        "`The digit at the hundreds place of 86421 is 4`\n"
      ],
      "metadata": {
        "id": "MsDmMXKsSWNv"
      }
    },
    {
      "cell_type": "code",
      "source": [
        "#INSERT YOUR ANSWER HERE."
      ],
      "outputs": [],
      "execution_count": 7,
      "metadata": {
        "jupyter": {
          "outputs_hidden": false
        },
        "pycharm": {
          "name": "#%%\n"
        },
        "id": "7XTyejHkSWNv",
        "execution": {
          "iopub.status.busy": "2022-01-18T02:34:46.208Z",
          "iopub.execute_input": "2022-01-18T02:34:46.223Z",
          "iopub.status.idle": "2022-01-18T02:34:46.233Z",
          "shell.execute_reply": "2022-01-18T02:34:45.893Z"
        }
      }
    },
    {
      "cell_type": "markdown",
      "source": [
        "*****\n",
        "\n"
      ],
      "metadata": {
        "id": "1pXjKc23jXTj"
      }
    },
    {
      "cell_type": "markdown",
      "source": [
        "### **Question 4  [25 pts]**:\n",
        "**a)**  **[10 pts]** Write a code that creates a set of different passwords.  Each password is a combination of a random adjective, noun, two digits and two punctuation symbols.\n",
        "\n",
        "For example, if the user asks for generating 4 passwords, then the code might generate the following list:\n",
        "\n",
        "| Password |\n",
        "|:-:|\n",
        "| supershine17*-  |\n",
        "| cheerfulmeet78~.  |\n",
        "| elitemango32&,  |\n",
        "| glossytrain14$} |\n",
        "\n",
        "Hints:  \n",
        "1. You can use the [wonderwords](https://pypi.org/project/wonderwords/) library to generate random words of the english language.\n",
        "2. You can use the \"functions for sequences\" methods from the [random](https://docs.python.org/3/library/random.html) module."
      ],
      "metadata": {
        "id": "zyGPPD-zY9tI"
      }
    },
    {
      "cell_type": "code",
      "source": [
        "#INSERT YOUR ANSWER HERE."
      ],
      "outputs": [],
      "execution_count": 8,
      "metadata": {
        "id": "GBa1P-FLZ4tJ",
        "execution": {
          "shell.execute_reply": "2022-01-18T02:34:45.906Z",
          "iopub.status.busy": "2022-01-18T02:34:46.252Z",
          "iopub.execute_input": "2022-01-18T02:34:46.262Z",
          "iopub.status.idle": "2022-01-18T02:34:46.272Z"
        }
      }
    },
    {
      "cell_type": "markdown",
      "source": [
        "**b)**  **[10 pts]** Count the characters of each generated password in Q4.a, then print the password along with its number of characters.\n",
        "\n",
        "For example, if the user enters `4`, then the output might be as follows:\n",
        "\n",
        "| Password | Length |\n",
        "|:-:|:-:|\n",
        "| supershine17*-  | 14 |\n",
        "| cheerfulmeet78~.  | 16|\n",
        "| elitemango32&,  | 14|\n",
        "| glossytrain14$} | 15 |\n",
        "\n"
      ],
      "metadata": {
        "id": "b-04LTBnaXvh"
      }
    },
    {
      "cell_type": "code",
      "source": [
        "#INSERT YOUR ANSWER HERE."
      ],
      "outputs": [],
      "execution_count": 9,
      "metadata": {
        "id": "-uhY18LaacpQ",
        "execution": {
          "shell.execute_reply": "2022-01-18T02:34:45.918Z",
          "iopub.status.busy": "2022-01-18T02:34:46.289Z",
          "iopub.execute_input": "2022-01-18T02:34:46.304Z",
          "iopub.status.idle": "2022-01-18T02:34:46.314Z"
        }
      }
    },
    {
      "cell_type": "markdown",
      "source": [
        "**c)**  **[5 pts]** Write a code to print only the passwords with more than `14` characters and include either the letter 'o', the digit '3', or the punctuation symbol '~'.\n",
        "\n",
        "For example, the code would filter the `4` passwords listed in 4.a, and print the following output:\n",
        "\n",
        "| Password | Length |\n",
        "|:-|:-|\n",
        "| cheerfulmeet78~.  | 16|\n",
        "| glossytrain14$} | 15 |"
      ],
      "metadata": {
        "id": "XW2SOJyUagbK"
      }
    },
    {
      "cell_type": "code",
      "source": [
        "#INSERT YOUR ANSWER HERE."
      ],
      "outputs": [],
      "execution_count": 10,
      "metadata": {
        "id": "RrLXGguKalqY",
        "execution": {
          "shell.execute_reply": "2022-01-18T02:34:45.930Z",
          "iopub.status.busy": "2022-01-18T02:34:46.329Z",
          "iopub.execute_input": "2022-01-18T02:34:46.340Z",
          "iopub.status.idle": "2022-01-18T02:34:46.351Z"
        }
      }
    },
    {
      "cell_type": "markdown",
      "source": [
        "**BONUS**  **[5 pts]** Design an encoder that encrypts the passwords generated in Q4.a. by changing their letters into the octal form.\n",
        "\n",
        "For example, if the user enters `4`, then the output might be as follows\n",
        "\n",
        "| Password | Encryption |\n",
        "|:-|:-|\n",
        "| supershine17*- | 0o1630o1650o1600o1450o1620o1630o1500o1510o1560o1450o610o670o520o55 |\n",
        "| cheerfulmeet78~. | 0o1430o1500o1450o1450o1620o1460o1650o1540o1550o1450o1450o1640o670o700o1760o56 |\n",
        "| elitemango32&, | 0o1450o1540o1510o1640o1450o1550o1410o1560o1470o1570o630o620o460o54 |\n",
        "| glossytrain14$} | 0o1470o1540o1570o1630o1630o1710o1640o1620o1410o1510o1560o610o640o440o175 |"
      ],
      "metadata": {
        "id": "YQW0DA46e55A"
      }
    },
    {
      "cell_type": "code",
      "source": [
        "#INSERT YOUR ANSWER HERE."
      ],
      "outputs": [],
      "execution_count": 11,
      "metadata": {
        "id": "Tn2baaxZO5cs",
        "execution": {
          "shell.execute_reply": "2022-01-18T02:34:45.944Z",
          "iopub.status.busy": "2022-01-18T02:34:46.364Z",
          "iopub.execute_input": "2022-01-18T02:34:46.376Z",
          "iopub.status.idle": "2022-01-18T02:34:46.386Z"
        }
      }
    },
    {
      "cell_type": "markdown",
      "source": [
        "***"
      ],
      "metadata": {
        "id": "5xhuXGfkgfuI"
      }
    },
    {
      "cell_type": "markdown",
      "source": [
        "#### This is the end of assignment 1"
      ],
      "metadata": {
        "id": "MS4zegKigy6u"
      }
    }
  ],
  "metadata": {
    "colab": {
      "name": "CIND830W22_Assignment1_Q.ipynb",
      "provenance": [],
      "collapsed_sections": [],
      "toc_visible": true
    },
    "kernelspec": {
      "display_name": "Python 3",
      "language": "python",
      "name": "python3"
    },
    "language_info": {
      "name": "python",
      "version": "3.8.5",
      "mimetype": "text/x-python",
      "codemirror_mode": {
        "name": "ipython",
        "version": 3
      },
      "pygments_lexer": "ipython3",
      "nbconvert_exporter": "python",
      "file_extension": ".py"
    },
    "nteract": {
      "version": "0.28.0"
    },
    "varInspector": {
      "cols": {
        "lenName": 16,
        "lenType": 16,
        "lenVar": 40
      },
      "kernels_config": {
        "python": {
          "delete_cmd_postfix": "",
          "delete_cmd_prefix": "del ",
          "library": "var_list.py",
          "varRefreshCmd": "print(var_dic_list())"
        },
        "r": {
          "delete_cmd_postfix": ") ",
          "delete_cmd_prefix": "rm(",
          "library": "var_list.r",
          "varRefreshCmd": "cat(var_dic_list()) "
        }
      },
      "types_to_exclude": [
        "module",
        "function",
        "builtin_function_or_method",
        "instance",
        "_Feature"
      ],
      "window_display": false
    }
  },
  "nbformat": 4,
  "nbformat_minor": 0
}